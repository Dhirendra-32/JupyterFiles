{
 "cells": [
  {
   "cell_type": "code",
   "execution_count": 1,
   "metadata": {},
   "outputs": [],
   "source": [
    "#function"
   ]
  },
  {
   "cell_type": "code",
   "execution_count": 2,
   "metadata": {},
   "outputs": [],
   "source": [
    "def revenue(totalprice , totalcust =2):#here totalcust is default argument \n",
    "    newRevenue =totalprice*totalcust\n",
    "    return newRevenue"
   ]
  },
  {
   "cell_type": "code",
   "execution_count": 3,
   "metadata": {},
   "outputs": [
    {
     "name": "stdout",
     "output_type": "stream",
     "text": [
      "20\n"
     ]
    }
   ],
   "source": [
    "print (revenue(10))"
   ]
  },
  {
   "cell_type": "code",
   "execution_count": 4,
   "metadata": {},
   "outputs": [
    {
     "name": "stdout",
     "output_type": "stream",
     "text": [
      "48\n"
     ]
    }
   ],
   "source": [
    "print(revenue(12,4))"
   ]
  },
  {
   "cell_type": "code",
   "execution_count": 5,
   "metadata": {},
   "outputs": [],
   "source": [
    "def financial (revenue,expense):\n",
    "    \"\"\"funtion does the calculation of profit and profit margin\"\"\"\n",
    "    profit= revenue-expense\n",
    "    profitmargin = profit /revenue\n",
    "    newlist = (profit , profitmargin)\n",
    "    \n",
    "    return newlist\n",
    "    "
   ]
  },
  {
   "cell_type": "code",
   "execution_count": 6,
   "metadata": {},
   "outputs": [
    {
     "name": "stdout",
     "output_type": "stream",
     "text": [
      "(5, 0.5)\n"
     ]
    }
   ],
   "source": [
    "print (financial(10,5))"
   ]
  },
  {
   "cell_type": "code",
   "execution_count": 7,
   "metadata": {},
   "outputs": [],
   "source": [
    "def Celsiustoferen(c):\n",
    "    return ((c*(9/5))+32)"
   ]
  },
  {
   "cell_type": "code",
   "execution_count": 8,
   "metadata": {},
   "outputs": [
    {
     "name": "stdout",
     "output_type": "stream",
     "text": [
      "89.6\n"
     ]
    }
   ],
   "source": [
    "print(Celsiustoferen(32))"
   ]
  },
  {
   "cell_type": "code",
   "execution_count": 9,
   "metadata": {},
   "outputs": [],
   "source": [
    "#regular exressions\n",
    "import re"
   ]
  },
  {
   "cell_type": "code",
   "execution_count": 10,
   "metadata": {},
   "outputs": [],
   "source": [
    "nameage= 'Jaime is my name and Rahul is 32 and 44'"
   ]
  },
  {
   "cell_type": "code",
   "execution_count": 11,
   "metadata": {},
   "outputs": [
    {
     "data": {
      "text/plain": [
       "'Jaime is my name and Rahul is 32 and 44'"
      ]
     },
     "execution_count": 11,
     "metadata": {},
     "output_type": "execute_result"
    }
   ],
   "source": [
    "nameage\n"
   ]
  },
  {
   "cell_type": "code",
   "execution_count": 12,
   "metadata": {},
   "outputs": [],
   "source": [
    "#finding age of string \n",
    "\n",
    "age =re.findall(r'\\d{1,2}',nameage)#here 1 and 2 are maximun size of number \n"
   ]
  },
  {
   "cell_type": "code",
   "execution_count": 13,
   "metadata": {},
   "outputs": [
    {
     "data": {
      "text/plain": [
       "['32', '44']"
      ]
     },
     "execution_count": 13,
     "metadata": {},
     "output_type": "execute_result"
    }
   ],
   "source": [
    "\n",
    "age"
   ]
  },
  {
   "cell_type": "code",
   "execution_count": 14,
   "metadata": {},
   "outputs": [],
   "source": [
    "#finding the name from string nameage \n"
   ]
  },
  {
   "cell_type": "code",
   "execution_count": 15,
   "metadata": {},
   "outputs": [],
   "source": [
    "names=re.findall(r'[A-Z][a-z]*',nameage)"
   ]
  },
  {
   "cell_type": "code",
   "execution_count": 16,
   "metadata": {},
   "outputs": [
    {
     "data": {
      "text/plain": [
       "['Jaime', 'Rahul']"
      ]
     },
     "execution_count": 16,
     "metadata": {},
     "output_type": "execute_result"
    }
   ],
   "source": [
    "names"
   ]
  },
  {
   "cell_type": "code",
   "execution_count": 17,
   "metadata": {},
   "outputs": [],
   "source": [
    "newdict={}\n",
    "x=0\n",
    "for i in names:\n",
    "    newdict[i]= age[x]\n",
    "    x=x+1"
   ]
  },
  {
   "cell_type": "code",
   "execution_count": 18,
   "metadata": {},
   "outputs": [
    {
     "data": {
      "text/plain": [
       "{'Jaime': '32', 'Rahul': '44'}"
      ]
     },
     "execution_count": 18,
     "metadata": {},
     "output_type": "execute_result"
    }
   ],
   "source": [
    "newdict"
   ]
  },
  {
   "cell_type": "code",
   "execution_count": 19,
   "metadata": {},
   "outputs": [],
   "source": [
    "a = 'we need to inform him with latest information'"
   ]
  },
  {
   "cell_type": "code",
   "execution_count": 20,
   "metadata": {},
   "outputs": [
    {
     "name": "stdout",
     "output_type": "stream",
     "text": [
      "true\n"
     ]
    }
   ],
   "source": [
    "if re.search('inform',a):\n",
    "    print ('true')"
   ]
  },
  {
   "cell_type": "code",
   "execution_count": 21,
   "metadata": {},
   "outputs": [],
   "source": [
    "c= re.findall('inform',a)\n",
    "    \n",
    "    "
   ]
  },
  {
   "cell_type": "code",
   "execution_count": 22,
   "metadata": {},
   "outputs": [
    {
     "data": {
      "text/plain": [
       "['inform', 'inform']"
      ]
     },
     "execution_count": 22,
     "metadata": {},
     "output_type": "execute_result"
    }
   ],
   "source": [
    "c"
   ]
  },
  {
   "cell_type": "code",
   "execution_count": 23,
   "metadata": {},
   "outputs": [
    {
     "name": "stdout",
     "output_type": "stream",
     "text": [
      "inform\n",
      "inform\n"
     ]
    }
   ],
   "source": [
    "for i in c:\n",
    "    print (i)"
   ]
  },
  {
   "cell_type": "code",
   "execution_count": 24,
   "metadata": {},
   "outputs": [],
   "source": [
    "email = 'Dhirepathi@gmail.comshyam@outlook.com rakhisawant@tit.com'\n",
    "regex='^[_a-z0-9-]+(\\.[_a-z0-9-]+)*@[a-z0-9-]+(\\.[a-z0-9-]+)*(\\.[a-z]{2,})$'\n"
   ]
  },
  {
   "cell_type": "code",
   "execution_count": 25,
   "metadata": {},
   "outputs": [],
   "source": [
    "emaillist = re.findall(regex,email)"
   ]
  },
  {
   "cell_type": "code",
   "execution_count": 26,
   "metadata": {},
   "outputs": [
    {
     "data": {
      "text/plain": [
       "[]"
      ]
     },
     "execution_count": 26,
     "metadata": {},
     "output_type": "execute_result"
    }
   ],
   "source": [
    "emaillist"
   ]
  },
  {
   "cell_type": "code",
   "execution_count": 27,
   "metadata": {},
   "outputs": [],
   "source": [
    "import urllib.request"
   ]
  },
  {
   "cell_type": "code",
   "execution_count": 28,
   "metadata": {},
   "outputs": [],
   "source": [
    "url=\"https://www.summit.com/about-us/contact-summit-electric-supply\"\n",
    "\n",
    "response = urllib.request.urlopen(url)\n",
    "html=response.read()\n",
    "htmlstr= html.decode()"
   ]
  },
  {
   "cell_type": "code",
   "execution_count": 29,
   "metadata": {},
   "outputs": [
    {
     "data": {
      "text/plain": [
       "'<!DOCTYPE html>\\n<html>\\n  <head>\\n    <meta charset=\"utf-8\">\\n    <meta http-equiv=\"X-UA-Compatible\" content=\"IE=edge\">\\n    <title>Summit Electric Supply › Wholesale Electrical Supplies and Tools Distributor</title>\\n    <meta name=\"description\" content=\"\">\\n    <meta name=\"viewport\" content=\"width=device-width, initial-scale=1\">\\n\\n    \\n<meta name=\"bootstrap/config/environment\" content=\"%7B%22modulePrefix%22%3A%22bootstrap%22%2C%22environment%22%3A%22production%22%2C%22rootURL%22%3A%22%2F%22%2C%22locationType%22%3A%22auto%22%2C%22moment%22%3A%7B%22includeTimezone%22%3A%22all%22%7D%2C%22EmberENV%22%3A%7B%22FEATURES%22%3A%7B%7D%2C%22EXTEND_PROTOTYPES%22%3A%7B%22Date%22%3Afalse%7D%7D%2C%22APP%22%3A%7B%22name%22%3A%22bootstrap%22%2C%22version%22%3A%224.2.1%2Bf092959d%22%7D%2C%22heremaps%22%3A%7B%22appId%22%3A%22395hbMlSWhJEnZeSP4d1%22%2C%22appCode%22%3A%22UXir5WyPJ5Rg2AbTUFxL0w%22%7D%2C%22contentSecurityPolicy%22%3A%7B%22default-src%22%3A%22\\'none\\'%22%2C%22script-src%22%3A%22\\'self\\'%20\\'unsafe-eval\\'%20*.googleapis.com%20maps.gstatic.com%20www.google-analytics.com%22%2C%22font-src%22%3A%22\\'self\\'%20fonts.gstatic.com%22%2C%22connect-src%22%3A%22\\'self\\'%20maps.gstatic.com%20www.google-analytics.com%22%2C%22img-src%22%3A%22\\'self\\'%20*.googleapis.com%20maps.gstatic.com%20csi.gstatic.com%22%2C%22style-src%22%3A%22\\'self\\'%20\\'unsafe-inline\\'%20fonts.googleapis.com%20maps.gstatic.com%22%7D%2C%22ember-google-maps%22%3A%7B%22key%22%3A%22AIzaSyBQABofIDd_OIrAupNhX1CiNkt-7nrGhho%22%2C%22language%22%3A%22en%22%2C%22region%22%3A%22US%22%2C%22protocol%22%3A%22https%22%2C%22version%22%3A%223.35%22%2C%22libraries%22%3A%5B%22places%22%5D%2C%22src%22%3A%22https%3A%2F%2Fmaps.googleapis.com%2Fmaps%2Fapi%2Fjs%3Fv%3D3.35%26libraries%3Dplaces%26region%3DUS%26language%3Den%26key%3DAIzaSyBQABofIDd_OIrAupNhX1CiNkt-7nrGhho%22%7D%2C%22ember-simple-auth%22%3A%7B%22authorizer%22%3A%22authorizer%3Ajwt%22%7D%2C%22ember-simple-auth-token%22%3A%7B%22serverTokenEndpoint%22%3A%22%2Fapi%2Ftokens%2F%22%2C%22identificationField%22%3A%22email%22%2C%22passwordField%22%3A%22password%22%2C%22tokenPropertyName%22%3A%22data.attributes.token%22%2C%22refreshTokenPropertyName%22%3A%22data.attributes.token%22%2C%22authorizationPrefix%22%3A%22Bearer%20%22%2C%22refreshTokens%22%3Atrue%2C%22tokenExpirationInvalidateSession%22%3Atrue%2C%22serverTokenRefreshEndpoint%22%3A%22%2Fapi%2Ftokens%2Frefresh%22%2C%22refreshLeeway%22%3A300%2C%22authorizationHeaderName%22%3A%22Authorization%22%2C%22headers%22%3A%7B%22Content-Type%22%3A%22application%2Fvnd.api%2Bjson%22%7D%7D%2C%22metricsAdapters%22%3A%5B%7B%22name%22%3A%22GoogleAnalytics%22%2C%22environments%22%3A%5B%22development%22%2C%22production%22%5D%2C%22config%22%3A%7B%22id%22%3A%22UA-4299981-6%22%2C%22debug%22%3Afalse%2C%22trace%22%3Afalse%2C%22sendHitTask%22%3Atrue%2C%22require%22%3A%5B%22ecommerce%22%5D%7D%7D%5D%2C%22zopim%22%3A%7B%22id%22%3A%225saGCxO4H8Ya8NibWONHjKnX2Rg2msfe%22%7D%2C%22ember-cli-mirage%22%3A%7B%22enabled%22%3Afalse%2C%22usingProxy%22%3Afalse%2C%22useDefaultPassthroughs%22%3Atrue%7D%2C%22minifyJS%22%3A%7B%22enabled%22%3Atrue%7D%2C%22minifyCSS%22%3A%7B%22enabled%22%3Atrue%7D%2C%22exportApplicationGlobal%22%3Afalse%2C%22ember-websockets%22%3A%7B%22socketIO%22%3Afalse%7D%7D\" />\\n\\n    <link integrity=\"\" rel=\"stylesheet\" href=\"/assets/vendor-fb0219164a30b242ce3ed18c369afa6c.css\">\\n    <link integrity=\"\" rel=\"stylesheet\" href=\"/assets/bootstrap-4b606337e9336790a8fa381a8f3a2df5.css\">\\n    <link href=\"https://fonts.googleapis.com/css?family=Fira+Sans:400,700\" rel=\"stylesheet\" defer>\\n    <link rel=\"icon\" href=\"images/favicon.ico\">\\n\\n    \\n  </head>\\n  <body>\\n    \\n\\n    <script src=\"/assets/vendor-33c751375c33aa20bba2e5177adfedc3.js\" integrity=\"sha256-oL4fsYH+6ABye/w/oErfos/UmWi+REUQbjU/cYRnxIY= sha512-9mERDNlbxRUhxWvZj9Nnm3tfLpCi0gnFXlYBDNAdQxYZDByxueEYbhZNHmTaN/YWEI2aBlq74A2WjdCMOykcsg==\" ></script>\\n    <script src=\"/assets/bootstrap-1fd92f06d065db347975aa21cac8a538.js\" integrity=\"sha256-VRhPEeFm+zvIzTakgzjWjT1tjSNODQ5kkybXPHwKXxI= sha512-60l9Gc3jI0KbX4ihZWC0l0qu0Jzg3zBAWGCSlZ9SQFayAaUlXAokYK9c75/wCYWyeRs2CfvOI/uoCXQXSZIuFw==\" ></script>\\n\\n    <script type=\\'text/javascript\\'>\\nwindow.$zopim||(function(d,s){var z=$zopim=function(c){z._.push(c)},$=z.s=\\nd.createElement(s),e=d.getElementsByTagName(s)[0];z.set=function(o){z.set.\\n_.push(o)};z._=[];z.set._=[];$.async=!0;$.setAttribute(\\'charset\\',\\'utf-8\\');\\n$.src=\\'//v2.zopim.com/?5saGCxO4H8Ya8NibWONHjKnX2Rg2msfe\\';z.t=+new Date;$.\\ntype=\\'text/javascript\\';e.parentNode.insertBefore($,e)})(document,\\'script\\');\\n</script>\\n<script type=\\'text/javascript\\'>\\n$(document).ready(function() {\\n$zopim(function() {\\n\\n});\\n});\\n</script>\\n\\n    <div id=\"ember-basic-dropdown-wormhole\"></div>\\n<div id=\"ember-bootstrap-wormhole\"></div>\\n  </body>\\n</html>\\n'"
      ]
     },
     "execution_count": 29,
     "metadata": {},
     "output_type": "execute_result"
    }
   ],
   "source": [
    "htmlstr"
   ]
  },
  {
   "cell_type": "code",
   "execution_count": 30,
   "metadata": {},
   "outputs": [],
   "source": [
    "mobdata = re.findall(r'\\d{4}',htmlstr)"
   ]
  },
  {
   "cell_type": "code",
   "execution_count": 31,
   "metadata": {},
   "outputs": [
    {
     "data": {
      "text/plain": [
       "['0929', '2239', '4299', '0219', '6063', '9336', '7513', '5177', '3479']"
      ]
     },
     "execution_count": 31,
     "metadata": {},
     "output_type": "execute_result"
    }
   ],
   "source": [
    "mobdata\n"
   ]
  },
  {
   "cell_type": "code",
   "execution_count": 32,
   "metadata": {},
   "outputs": [],
   "source": [
    "#file handling "
   ]
  },
  {
   "cell_type": "code",
   "execution_count": 33,
   "metadata": {},
   "outputs": [],
   "source": [
    "import os "
   ]
  },
  {
   "cell_type": "code",
   "execution_count": 34,
   "metadata": {},
   "outputs": [
    {
     "data": {
      "text/plain": [
       "'C:\\\\Users\\\\dt321\\\\Desktop\\\\Jupyter files'"
      ]
     },
     "execution_count": 34,
     "metadata": {},
     "output_type": "execute_result"
    }
   ],
   "source": [
    "os.getcwd()#to get the current directory "
   ]
  },
  {
   "cell_type": "code",
   "execution_count": 35,
   "metadata": {},
   "outputs": [],
   "source": [
    "# our requirement is to create and open a file "
   ]
  },
  {
   "cell_type": "code",
   "execution_count": 36,
   "metadata": {},
   "outputs": [],
   "source": [
    "file = open(\"mynotes.txt\",'w')"
   ]
  },
  {
   "cell_type": "code",
   "execution_count": 37,
   "metadata": {},
   "outputs": [
    {
     "data": {
      "text/plain": [
       "34"
      ]
     },
     "execution_count": 37,
     "metadata": {},
     "output_type": "execute_result"
    }
   ],
   "source": [
    "file.write(\"learning 4th video of rahul tiwari\")"
   ]
  },
  {
   "cell_type": "code",
   "execution_count": 38,
   "metadata": {},
   "outputs": [
    {
     "data": {
      "text/plain": [
       "44"
      ]
     },
     "execution_count": 38,
     "metadata": {},
     "output_type": "execute_result"
    }
   ],
   "source": [
    "file.write(\"im gonna improve my coding skill from now on\")"
   ]
  },
  {
   "cell_type": "code",
   "execution_count": 39,
   "metadata": {},
   "outputs": [
    {
     "name": "stdout",
     "output_type": "stream",
     "text": [
      "data has been written successfully in mynotes\n"
     ]
    }
   ],
   "source": [
    "print(\"data has been written successfully in mynotes\")\n",
    "file.close()"
   ]
  },
  {
   "cell_type": "code",
   "execution_count": 40,
   "metadata": {},
   "outputs": [],
   "source": [
    "#to append the some text at existing file"
   ]
  },
  {
   "cell_type": "code",
   "execution_count": 41,
   "metadata": {},
   "outputs": [],
   "source": [
    "file= open('mynotes.txt','a')"
   ]
  },
  {
   "cell_type": "code",
   "execution_count": 42,
   "metadata": {},
   "outputs": [
    {
     "data": {
      "text/plain": [
       "17"
      ]
     },
     "execution_count": 42,
     "metadata": {},
     "output_type": "execute_result"
    }
   ],
   "source": [
    "file.write(\"appended the list\")"
   ]
  },
  {
   "cell_type": "code",
   "execution_count": 43,
   "metadata": {},
   "outputs": [],
   "source": [
    "file.close()"
   ]
  },
  {
   "cell_type": "code",
   "execution_count": 44,
   "metadata": {},
   "outputs": [],
   "source": [
    "file = open('mynotes.txt','w')"
   ]
  },
  {
   "cell_type": "code",
   "execution_count": 45,
   "metadata": {},
   "outputs": [],
   "source": [
    "list =['my name is dhirendra tripathi\\n','im helping the people ']"
   ]
  },
  {
   "cell_type": "code",
   "execution_count": 46,
   "metadata": {},
   "outputs": [],
   "source": [
    "file.writelines(list)"
   ]
  },
  {
   "cell_type": "code",
   "execution_count": 47,
   "metadata": {},
   "outputs": [],
   "source": [
    "file.close()"
   ]
  },
  {
   "cell_type": "code",
   "execution_count": 48,
   "metadata": {},
   "outputs": [],
   "source": [
    "#to read the file "
   ]
  },
  {
   "cell_type": "code",
   "execution_count": 49,
   "metadata": {},
   "outputs": [],
   "source": [
    "file=open('mynotes.txt','r')"
   ]
  },
  {
   "cell_type": "code",
   "execution_count": 50,
   "metadata": {},
   "outputs": [
    {
     "data": {
      "text/plain": [
       "'my name is dhirendra tripathi\\nim helping the people '"
      ]
     },
     "execution_count": 50,
     "metadata": {},
     "output_type": "execute_result"
    }
   ],
   "source": [
    "file.read()"
   ]
  },
  {
   "cell_type": "code",
   "execution_count": 51,
   "metadata": {},
   "outputs": [],
   "source": [
    "file.close()"
   ]
  },
  {
   "cell_type": "code",
   "execution_count": 52,
   "metadata": {},
   "outputs": [
    {
     "name": "stdout",
     "output_type": "stream",
     "text": [
      "file has been deleted\n"
     ]
    }
   ],
   "source": [
    "if os.path.exists('mynotes.txt'):\n",
    "    os.remove('mynotes.txt')\n",
    "    print(\"file has been deleted\")\n",
    "else:\n",
    "    print('file doesn\\'t exist')"
   ]
  },
  {
   "cell_type": "code",
   "execution_count": 1,
   "metadata": {},
   "outputs": [
    {
     "name": "stdout",
     "output_type": "stream",
     "text": [
      "hello\n"
     ]
    }
   ],
   "source": [
    "print (\"hello\")"
   ]
  },
  {
   "cell_type": "code",
   "execution_count": null,
   "metadata": {},
   "outputs": [],
   "source": []
  }
 ],
 "metadata": {
  "kernelspec": {
   "display_name": "Python 3",
   "language": "python",
   "name": "python3"
  },
  "language_info": {
   "codemirror_mode": {
    "name": "ipython",
    "version": 3
   },
   "file_extension": ".py",
   "mimetype": "text/x-python",
   "name": "python",
   "nbconvert_exporter": "python",
   "pygments_lexer": "ipython3",
   "version": "3.7.4"
  }
 },
 "nbformat": 4,
 "nbformat_minor": 2
}
